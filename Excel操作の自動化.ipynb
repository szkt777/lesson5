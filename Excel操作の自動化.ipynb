{
 "cells": [
  {
   "cell_type": "code",
   "execution_count": null,
   "id": "bd59a96b",
   "metadata": {},
   "outputs": [],
   "source": [
    "!pip install openpyxl"
   ]
  },
  {
   "cell_type": "code",
   "execution_count": 20,
   "id": "97683370",
   "metadata": {},
   "outputs": [],
   "source": [
    "import openpyxl"
   ]
  },
  {
   "cell_type": "code",
   "execution_count": 21,
   "id": "11c010e6",
   "metadata": {},
   "outputs": [],
   "source": [
    "wb=openpyxl.load_workbook(\"出社在宅集計表_人事部.xlsx\")"
   ]
  },
  {
   "cell_type": "code",
   "execution_count": 22,
   "id": "aaae3318",
   "metadata": {},
   "outputs": [
    {
     "data": {
      "text/plain": [
       "<openpyxl.workbook.workbook.Workbook at 0x120d91f10>"
      ]
     },
     "execution_count": 22,
     "metadata": {},
     "output_type": "execute_result"
    }
   ],
   "source": [
    "wb"
   ]
  },
  {
   "cell_type": "code",
   "execution_count": 23,
   "id": "747d5416",
   "metadata": {},
   "outputs": [],
   "source": [
    "ws=wb[\"4月\"]"
   ]
  },
  {
   "cell_type": "code",
   "execution_count": 24,
   "id": "9df89b87",
   "metadata": {},
   "outputs": [
    {
     "data": {
      "text/plain": [
       "<Worksheet \"4月\">"
      ]
     },
     "execution_count": 24,
     "metadata": {},
     "output_type": "execute_result"
    }
   ],
   "source": [
    "ws"
   ]
  },
  {
   "cell_type": "code",
   "execution_count": 25,
   "id": "45bff0c1",
   "metadata": {},
   "outputs": [
    {
     "data": {
      "text/plain": [
       "24"
      ]
     },
     "execution_count": 25,
     "metadata": {},
     "output_type": "execute_result"
    }
   ],
   "source": [
    "ws.cell(row=2,column=2).value"
   ]
  },
  {
   "cell_type": "code",
   "execution_count": 26,
   "id": "9ee39acb",
   "metadata": {},
   "outputs": [
    {
     "data": {
      "text/plain": [
       "11"
      ]
     },
     "execution_count": 26,
     "metadata": {},
     "output_type": "execute_result"
    }
   ],
   "source": [
    "ws.cell(row=3,column=6).value"
   ]
  },
  {
   "cell_type": "code",
   "execution_count": 27,
   "id": "6d54c593",
   "metadata": {},
   "outputs": [],
   "source": [
    "ws.cell(row=5,column=5).value=1000"
   ]
  },
  {
   "cell_type": "code",
   "execution_count": 28,
   "id": "77ec0fe5",
   "metadata": {},
   "outputs": [],
   "source": [
    "wb.save(\"test.xlsx\")"
   ]
  },
  {
   "cell_type": "code",
   "execution_count": 29,
   "id": "1cf1d8f6",
   "metadata": {},
   "outputs": [],
   "source": [
    "wb.save(\"出社在宅集計表_人事部.xlsx\")"
   ]
  },
  {
   "cell_type": "code",
   "execution_count": 30,
   "id": "bebeaf1e",
   "metadata": {},
   "outputs": [],
   "source": [
    "wb_matome=openpyxl.load_workbook(\"出社在宅集計表_まとめ.xlsx\")\n",
    "wb_jinji=openpyxl.load_workbook(\"出社在宅集計表_人事部.xlsx\")"
   ]
  },
  {
   "cell_type": "code",
   "execution_count": 31,
   "id": "c0fbc599",
   "metadata": {},
   "outputs": [],
   "source": [
    "ws_matome=wb_matome[\"4月\"]\n",
    "ws_jinji=wb_jinji[\"4月\"]"
   ]
  },
  {
   "cell_type": "code",
   "execution_count": 32,
   "id": "c85fab06",
   "metadata": {},
   "outputs": [],
   "source": [
    "ws_matome.cell(row=2,column=3).value=ws_jinji.cell(row=2,column=2).value"
   ]
  },
  {
   "cell_type": "code",
   "execution_count": 33,
   "id": "4a69a80b",
   "metadata": {},
   "outputs": [],
   "source": [
    "wb_matome.save(\"出社在宅集計表_まとめ2.xlsx\")"
   ]
  },
  {
   "cell_type": "code",
   "execution_count": 34,
   "id": "f656bbb1",
   "metadata": {},
   "outputs": [],
   "source": [
    "ws_matome.cell(row=2,column=3).value=ws_jinji.cell(row=2,column=2).value\n",
    "\n",
    "ws_matome.cell(row=2,column=32).value=ws_jinji.cell(row=2,column=31).value"
   ]
  },
  {
   "cell_type": "code",
   "execution_count": 35,
   "id": "c11c982b",
   "metadata": {},
   "outputs": [],
   "source": [
    "for i in range(30):\n",
    "    ws_matome.cell(row=2,column=3+i).value=ws_jinji.cell(row=2,column=2+i).value"
   ]
  },
  {
   "cell_type": "code",
   "execution_count": 36,
   "id": "b582cdc8",
   "metadata": {},
   "outputs": [],
   "source": [
    "wb.save(\"出社在宅集計表_まとめ2.xlsx\")"
   ]
  },
  {
   "cell_type": "code",
   "execution_count": 38,
   "id": "ca56fc33",
   "metadata": {},
   "outputs": [
    {
     "data": {
      "text/plain": [
       "31"
      ]
     },
     "execution_count": 38,
     "metadata": {},
     "output_type": "execute_result"
    }
   ],
   "source": [
    "openpyxl.utils.column_index_from_string(\"AE\")"
   ]
  },
  {
   "cell_type": "code",
   "execution_count": 40,
   "id": "3639cd5c",
   "metadata": {},
   "outputs": [
    {
     "data": {
      "text/plain": [
       "'ALL'"
      ]
     },
     "execution_count": 40,
     "metadata": {},
     "output_type": "execute_result"
    }
   ],
   "source": [
    "openpyxl.utils.get_column_letter(1000)"
   ]
  },
  {
   "cell_type": "code",
   "execution_count": 41,
   "id": "8b8785c2",
   "metadata": {},
   "outputs": [],
   "source": [
    "for i in range(30):\n",
    "    ws_matome.cell(row=2,column=3+i).value=ws_jinji.cell(row=2,column=2+i).value\n",
    "    ws_matome.cell(row=3,column=3+i).value=ws_jinji.cell(row=3,column=2+i).value\n",
    "wb.save(\"出社在宅集計表_まとめ2.xlsx\")"
   ]
  },
  {
   "cell_type": "code",
   "execution_count": 43,
   "id": "ee0320dd",
   "metadata": {},
   "outputs": [],
   "source": [
    "wb_matome=openpyxl.load_workbook(\"出社在宅集計表_まとめ.xlsx\")\n",
    "wb_jinji=openpyxl.load_workbook(\"出社在宅集計表_人事部.xlsx\")\n",
    "#4月分の処理\n",
    "ws_matome_4=wb_matome[\"4月\"]\n",
    "ws_jinji_4=wb_jinji[\"4月\"]\n",
    "\n",
    "for i in range(30):\n",
    "    ws_matome_4.cell(row=2,column=3+i).value=ws_jinji_4.cell(row=2,column=2+i).value\n",
    "    ws_matome_4.cell(row=3,column=3+i).value=ws_jinji_4.cell(row=3,column=2+i).value\n",
    "\n",
    "#5月分の処理\n",
    "    ws_matome_5=wb_matome[\"5月\"]\n",
    "ws_jinji_5=wb_jinji[\"5月\"]\n",
    "\n",
    "for i in range(31):\n",
    "    ws_matome_5.cell(row=2,column=3+i).value=ws_jinji_5.cell(row=2,column=2+i).value\n",
    "    ws_matome_5.cell(row=3,column=3+i).value=ws_jinji_5.cell(row=3,column=2+i).value\n",
    "\n",
    "    #6月分の処理  \n",
    "ws_matome_6=wb_matome[\"6月\"]\n",
    "ws_jinji_6=wb_jinji[\"6月\"]\n",
    "\n",
    "for i in range(30):\n",
    "    ws_matome_6.cell(row=2,column=3+i).value=ws_jinji_6.cell(row=2,column=2+i).value\n",
    "    ws_matome_6.cell(row=3,column=3+i).value=ws_jinji_6.cell(row=3,column=2+i).value\n",
    "    \n",
    "    wb.save(\"出社在宅集計表_まとめ2.xlsx\")"
   ]
  },
  {
   "cell_type": "code",
   "execution_count": 47,
   "id": "60a51fbd",
   "metadata": {},
   "outputs": [],
   "source": [
    "month_list=[\"4月\",\"5月\",\"6月\"]\n",
    "\n",
    "for month in month_list:\n",
    "    ws_matome=wb_matome[month]\n",
    "    ws_jinji=wb_jinji[month]\n",
    "\n",
    "for i in range(ws_jinji.max_column-1):\n",
    "\n",
    "    ws_matome.cell(row=2,column=3+i).value=ws_jinji.cell(row=2,column=2+i).value\n",
    "    ws_matome.cell(row=3,column=3+i).value=ws_jinji.cell(row=3,column=2+i).value\n",
    "wb.save(\"出社在宅集計表_まとめ2.xlsx\")"
   ]
  },
  {
   "cell_type": "code",
   "execution_count": null,
   "id": "d4c395b6",
   "metadata": {},
   "outputs": [],
   "source": [
    "ws_jinji_jinji_4.max_column"
   ]
  }
 ],
 "metadata": {
  "kernelspec": {
   "display_name": "Python 3 (ipykernel)",
   "language": "python",
   "name": "python3"
  },
  "language_info": {
   "codemirror_mode": {
    "name": "ipython",
    "version": 3
   },
   "file_extension": ".py",
   "mimetype": "text/x-python",
   "name": "python",
   "nbconvert_exporter": "python",
   "pygments_lexer": "ipython3",
   "version": "3.11.5"
  }
 },
 "nbformat": 4,
 "nbformat_minor": 5
}
